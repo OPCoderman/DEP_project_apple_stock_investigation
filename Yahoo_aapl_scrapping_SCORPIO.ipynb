{
 "cells": [
  {
   "cell_type": "code",
   "execution_count": null,
   "id": "403a427b",
   "metadata": {},
   "outputs": [],
   "source": [
    "from selenium import webdriver\n",
    "from selenium.webdriver.common.by import By\n",
    "from selenium.webdriver.support.ui import WebDriverWait\n",
    "from selenium.webdriver.support import expected_conditions as EC\n",
    "import time\n",
    "import csv\n",
    "from webdriver_manager.firefox import GeckoDriverManager\n",
    "from selenium.webdriver.firefox.service import Service"
   ]
  },
  {
   "cell_type": "code",
   "execution_count": null,
   "id": "f303b87b",
   "metadata": {},
   "outputs": [],
   "source": [
    "\n",
    "service = Service(GeckoDriverManager().install())\n",
    "driver = webdriver.Firefox(service=service)\n",
    "\n",
    "driver.implicitly_wait(10)\n",
    "\n",
    "url = \"https://finance.yahoo.com/quote/AAPL/history/?p=AAPL&period1=1388534400&period2=1740498300\"\n",
    "\n",
    "driver.get(url)\n",
    "# loaded?\n",
    "print(driver.title)\n",
    "\n",
    "# delay\n",
    "WebDriverWait(driver, 10).until(EC.presence_of_element_located((By.TAG_NAME, \"table\")))"
   ]
  },
  {
   "cell_type": "code",
   "execution_count": null,
   "id": "8a354894",
   "metadata": {},
   "outputs": [],
   "source": [
    "while 1:\n",
    "    try:\n",
    "        show_more = WebDriverWait(driver, 10).until(\n",
    "            EC.element_to_be_clickable((By.XPATH, '//button[text()=\"Show More\"]'))\n",
    "        )\n",
    "        show_more.click()\n",
    "        time.sleep(2)  \n",
    "    except Exception as e:\n",
    "        break"
   ]
  },
  {
   "cell_type": "code",
   "execution_count": null,
   "id": "0b912dda",
   "metadata": {},
   "outputs": [],
   "source": [
    "table = driver.find_element(By.TAG_NAME, \"table\")\n",
    "rows = table.find_elements(By.TAG_NAME, \"tr\")\n"
   ]
  },
  {
   "cell_type": "code",
   "execution_count": null,
   "id": "41d9c113",
   "metadata": {},
   "outputs": [],
   "source": [
    "with open('yahoo_aapl.csv', mode='w', newline='', encoding='utf-8') as file:\n",
    "    writer = csv.writer(file)\n",
    "    header = [th.text for th in rows[0].find_elements(By.TAG_NAME, \"th\")]\n",
    "    writer.writerow(header)\n",
    "    \n",
    "    for row in rows[1:]:\n",
    "        data = [td.text for td in row.find_elements(By.TAG_NAME, \"td\")]\n",
    "        if len(data) == len(header):\n",
    "            writer.writerow(data)\n",
    "\n",
    "driver.quit()"
   ]
  }
 ],
 "metadata": {
  "kernelspec": {
   "display_name": "base",
   "language": "python",
   "name": "python3"
  },
  "language_info": {
   "codemirror_mode": {
    "name": "ipython",
    "version": 3
   },
   "file_extension": ".py",
   "mimetype": "text/x-python",
   "name": "python",
   "nbconvert_exporter": "python",
   "pygments_lexer": "ipython3",
   "version": "3.11.5"
  }
 },
 "nbformat": 4,
 "nbformat_minor": 5
}
